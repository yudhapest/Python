{
  "nbformat": 4,
  "nbformat_minor": 0,
  "metadata": {
    "colab": {
      "name": "Klasifikasi Gambar.ipynb",
      "provenance": [],
      "collapsed_sections": []
    },
    "kernelspec": {
      "name": "python3",
      "display_name": "Python 3"
    },
    "language_info": {
      "name": "python"
    }
  },
  "cells": [
    {
      "cell_type": "markdown",
      "metadata": {
        "id": "Jp5O5WHrZTKB"
      },
      "source": [
        "\n",
        "\n",
        "Mengunduh dataset dari DICODING https://dicodingacademy.blob.core.windows.net/picodiploma/ml_pemula_academy/rockpaperscissors.zip\n",
        "\n"
      ]
    },
    {
      "cell_type": "code",
      "metadata": {
        "colab": {
          "base_uri": "https://localhost:8080/"
        },
        "id": "Ad1-NILNXMkR",
        "outputId": "766f1775-d2aa-49cc-a972-44dd5ff16437"
      },
      "source": [
        "!wget --no-check-certificate \\\n",
        "  https://dicodingacademy.blob.core.windows.net/picodiploma/ml_pemula_academy/rockpaperscissors.zip \\\n",
        "  -O /tmp/rockpaperscissors.zip"
      ],
      "execution_count": null,
      "outputs": [
        {
          "output_type": "stream",
          "text": [
            "--2021-05-26 06:55:06--  https://dicodingacademy.blob.core.windows.net/picodiploma/ml_pemula_academy/rockpaperscissors.zip\n",
            "Resolving dicodingacademy.blob.core.windows.net (dicodingacademy.blob.core.windows.net)... 52.239.197.36\n",
            "Connecting to dicodingacademy.blob.core.windows.net (dicodingacademy.blob.core.windows.net)|52.239.197.36|:443... connected.\n",
            "HTTP request sent, awaiting response... 200 OK\n",
            "Length: 322873683 (308M) [application/zip]\n",
            "Saving to: ‘/tmp/rockpaperscissors.zip’\n",
            "\n",
            "/tmp/rockpapersciss 100%[===================>] 307.92M  1.24MB/s    in 4m 18s  \n",
            "\n",
            "2021-05-26 06:59:25 (1.19 MB/s) - ‘/tmp/rockpaperscissors.zip’ saved [322873683/322873683]\n",
            "\n"
          ],
          "name": "stdout"
        }
      ]
    },
    {
      "cell_type": "markdown",
      "metadata": {
        "id": "uvtbjz-IaZe2"
      },
      "source": [
        "Melakukan ekstraksi pada file zip"
      ]
    },
    {
      "cell_type": "code",
      "metadata": {
        "id": "8e5QE7_3aqXQ"
      },
      "source": [
        "import os #Import modul untuk mengakses file\n",
        "import zipfile #Import modul untuk membaca file\n",
        "\n",
        "local_zip = '/content/rockpaperscissors.zip' #Mendefinnisikan file yang akan diekstrak\n",
        "zip_ref = zipfile.ZipFile(local_zip, 'r') #Ekstrak file zip\n",
        "zip_ref.extractall('/content') #Menempatkan file hasil ekstrak\n",
        "zip_ref.close() #Menghentikan fungsi zip"
      ],
      "execution_count": null,
      "outputs": []
    },
    {
      "cell_type": "markdown",
      "metadata": {
        "id": "pBLU7XjxfXLe"
      },
      "source": [
        "Menyiapkan folder"
      ]
    },
    {
      "cell_type": "code",
      "metadata": {
        "colab": {
          "base_uri": "https://localhost:8080/"
        },
        "id": "UiylR9S5fEor",
        "outputId": "5b79b41a-2edc-4428-ee67-b6cbda78fbd1"
      },
      "source": [
        "import os #Import modul untuk mengakses file\n",
        "\n",
        "#Mendefinisikan folter training gunting, batu dan kertas\n",
        "base_dir = '/content/rockpaperscissors' \n",
        "scissors_dir = os.path.join(base_dir, 'scissors') \n",
        "rock_dir = os.path.join(base_dir, 'rock')\n",
        "paper_dir = os.path.join(base_dir, 'paper')\n",
        "\n",
        "#Menampilkan jumlah gambar gunting, batu dan kertas\n",
        "print('Jumlah gambar gunting :', len(os.listdir(scissors_dir)))\n",
        "print('Jumlah gambar gunting :', len(os.listdir(rock_dir)))\n",
        "print('Jumlah gambar gunting :', len(os.listdir(paper_dir)))"
      ],
      "execution_count": null,
      "outputs": [
        {
          "output_type": "stream",
          "text": [
            "Jumlah gambar gunting : 750\n",
            "Jumlah gambar gunting : 726\n",
            "Jumlah gambar gunting : 712\n"
          ],
          "name": "stdout"
        }
      ]
    },
    {
      "cell_type": "markdown",
      "metadata": {
        "id": "pFB0NjaXoQS1"
      },
      "source": [
        "Menggunakan Image Generator"
      ]
    },
    {
      "cell_type": "code",
      "metadata": {
        "id": "Sp2d7_hAoP2w"
      },
      "source": [
        "import tensorflow as tf #Import modul tensor flow\n",
        "import keras_preprocessing #Import modul keras\n",
        "from keras_preprocessing import image #Import keras_preprocessing untuk gambar\n",
        "from keras_preprocessing.image import ImageDataGenerator #Import keras_preprocessing.image untuk ImageDataGenerator"
      ],
      "execution_count": null,
      "outputs": []
    },
    {
      "cell_type": "markdown",
      "metadata": {
        "id": "R-NchiVnqvxp"
      },
      "source": [
        "Memisahkan data training dan validation"
      ]
    },
    {
      "cell_type": "code",
      "metadata": {
        "id": "I8lGAeh-qyhe"
      },
      "source": [
        "BASIS_DIR = '/content/rockpaperscissors/rps-cv-images/' #Menyiapkan folfer\n",
        "train_datagen = ImageDataGenerator( #ImageDataGenerator\n",
        "                    rescale=1./255, #Normalisasi data\n",
        "                    rotation_range=40, #Rotasi gambar hingga 40 derajat\n",
        "                    horizontal_flip=True, #Putar balik gambar secara horizontal\n",
        "                    shear_range = 0.2, #Prmangkasan gambar sebanyak 0.2 dari gambar asli\n",
        "                    fill_mode = 'nearest', #Mengisi pixel yang kosong\n",
        "                    validation_split = 0.4 #Membagi data training 60% dan 40% data validation\n",
        "                    )\n"
      ],
      "execution_count": null,
      "outputs": []
    },
    {
      "cell_type": "markdown",
      "metadata": {
        "id": "1O08Wjhwxitx"
      },
      "source": [
        "Pelabelan data menggunakan ImageDataGenerator"
      ]
    },
    {
      "cell_type": "code",
      "metadata": {
        "colab": {
          "base_uri": "https://localhost:8080/"
        },
        "id": "rmIHuHoUyR-i",
        "outputId": "7116bc4c-9c0b-4f0b-eab9-d469f8f8447e"
      },
      "source": [
        "train_generator = train_datagen.flow_from_directory(\n",
        "        BASIS_DIR,  # direktori data latih\n",
        "        target_size=(150, 150),  # mengubah resolusi seluruh gambar menjadi 150x150 piksel\n",
        "        shuffle = True,\n",
        "        # karena kita merupakan masalah klasifikasi 3 kelas maka menggunakan class_mode = 'binary'\n",
        "        class_mode='categorical',\n",
        "        subset = 'training') #Untuk data training\n",
        "\n",
        "validation_generator = train_datagen.flow_from_directory(\n",
        "        BASIS_DIR, # direktori data validasi\n",
        "        target_size=(150, 150), # mengubah resolusi seluruh gambar menjadi 150x150 piksel\n",
        "        shuffle = True, \n",
        "        # karena kita merupakan masalah klasifikasi 3 kelas maka menggunakan class_mode = 'categorical'\n",
        "        class_mode = 'categorical',\n",
        "        subset = 'validation') #Untuk data validation"
      ],
      "execution_count": null,
      "outputs": [
        {
          "output_type": "stream",
          "text": [
            "Found 1314 images belonging to 3 classes.\n",
            "Found 874 images belonging to 3 classes.\n"
          ],
          "name": "stdout"
        }
      ]
    },
    {
      "cell_type": "markdown",
      "metadata": {
        "id": "l3Ju8oKB0g9J"
      },
      "source": [
        "Membangun model jaringan saraf dengan model squential"
      ]
    },
    {
      "cell_type": "code",
      "metadata": {
        "colab": {
          "base_uri": "https://localhost:8080/"
        },
        "id": "xtQvtQVW0mK0",
        "outputId": "26b81ec7-d7f2-417c-83da-cc8cc9bf1c68"
      },
      "source": [
        "model = tf.keras.models.Sequential([ #Model Squential                                \n",
        "    #Bentuk input gambar dengan ukuran 150x150 dengan 3 byte\n",
        "    tf.keras.layers.Conv2D(16, (3,3), activation='relu', input_shape=(150, 150, 3)), #Konvolusi pertama\n",
        "    tf.keras.layers.MaxPooling2D(2, 2),\n",
        "    tf.keras.layers.Conv2D(32, (3,3), activation='relu'), #Konvolusi kedua\n",
        "    tf.keras.layers.MaxPooling2D(2,2),\n",
        "    tf.keras.layers.Conv2D(32, (3,3), activation='relu'), #Konvolusi ketiga\n",
        "    tf.keras.layers.MaxPooling2D(2,2),\n",
        "    \n",
        "    tf.keras.layers.Flatten(), #Layer input untuk Deep Learning\n",
        "    tf.keras.layers.Dropout(0.5),\n",
        "\n",
        "    tf.keras.layers.Dense(128, activation='relu'), #Hidden layer pertama\n",
        "    tf.keras.layers.Dense(512, activation='relu'), #Hidden layer kedua\n",
        "    tf.keras.layers.Dense(3, activation='softmax') #Layer output\n",
        "])\n",
        "\n",
        "model.summary() #Menampiljan summary model"
      ],
      "execution_count": null,
      "outputs": [
        {
          "output_type": "stream",
          "text": [
            "Model: \"sequential_4\"\n",
            "_________________________________________________________________\n",
            "Layer (type)                 Output Shape              Param #   \n",
            "=================================================================\n",
            "conv2d_12 (Conv2D)           (None, 148, 148, 16)      448       \n",
            "_________________________________________________________________\n",
            "max_pooling2d_12 (MaxPooling (None, 74, 74, 16)        0         \n",
            "_________________________________________________________________\n",
            "conv2d_13 (Conv2D)           (None, 72, 72, 32)        4640      \n",
            "_________________________________________________________________\n",
            "max_pooling2d_13 (MaxPooling (None, 36, 36, 32)        0         \n",
            "_________________________________________________________________\n",
            "conv2d_14 (Conv2D)           (None, 34, 34, 32)        9248      \n",
            "_________________________________________________________________\n",
            "max_pooling2d_14 (MaxPooling (None, 17, 17, 32)        0         \n",
            "_________________________________________________________________\n",
            "flatten_4 (Flatten)          (None, 9248)              0         \n",
            "_________________________________________________________________\n",
            "dropout_4 (Dropout)          (None, 9248)              0         \n",
            "_________________________________________________________________\n",
            "dense_10 (Dense)             (None, 128)               1183872   \n",
            "_________________________________________________________________\n",
            "dense_11 (Dense)             (None, 512)               66048     \n",
            "_________________________________________________________________\n",
            "dense_12 (Dense)             (None, 3)                 1539      \n",
            "=================================================================\n",
            "Total params: 1,265,795\n",
            "Trainable params: 1,265,795\n",
            "Non-trainable params: 0\n",
            "_________________________________________________________________\n"
          ],
          "name": "stdout"
        }
      ]
    },
    {
      "cell_type": "markdown",
      "metadata": {
        "id": "H6fEXzRi5EQI"
      },
      "source": [
        "Kompilasi model"
      ]
    },
    {
      "cell_type": "code",
      "metadata": {
        "id": "uEO8UJbG5G13"
      },
      "source": [
        "# compile model dengan 'adam' optimizer loss function 'binary_crossentropy' \n",
        "model.compile(loss='categorical_crossentropy', #Melakukan klasifikasi lebih dari 2 karena kategorikal\n",
        "              optimizer=tf.optimizers.Adam(), #Optimizer\n",
        "              metrics=['accuracy'] #Akurasi model training\n",
        "              )"
      ],
      "execution_count": null,
      "outputs": []
    },
    {
      "cell_type": "markdown",
      "metadata": {
        "id": "qZGYc-Er50p1"
      },
      "source": [
        "Melatih model saraf tiruan"
      ]
    },
    {
      "cell_type": "code",
      "metadata": {
        "colab": {
          "base_uri": "https://localhost:8080/"
        },
        "id": "1SJIu1t653yq",
        "outputId": "86c96f65-90fe-4c9e-d491-0345ce363eb7"
      },
      "source": [
        "# latih model dengan model.fit \n",
        "model.fit(\n",
        "      train_generator,\n",
        "      steps_per_epoch=4,  # berapa batch yang akan dieksekusi pada setiap epoch\n",
        "      epochs=50, # tambahkan eposchs jika akurasi model belum optimal\n",
        "      validation_data=validation_generator, # menampilkan akurasi pengujian data validasi\n",
        "      validation_steps=4,  # berapa batch yang akan dieksekusi pada setiap epoch\n",
        "      verbose=2)"
      ],
      "execution_count": null,
      "outputs": [
        {
          "output_type": "stream",
          "text": [
            "Epoch 1/50\n",
            "4/4 - 6s - loss: 1.1023 - accuracy: 0.3750 - val_loss: 1.0892 - val_accuracy: 0.5859\n",
            "Epoch 2/50\n",
            "4/4 - 5s - loss: 1.0875 - accuracy: 0.3750 - val_loss: 1.0690 - val_accuracy: 0.3906\n",
            "Epoch 3/50\n",
            "4/4 - 5s - loss: 1.0766 - accuracy: 0.3672 - val_loss: 1.0545 - val_accuracy: 0.3672\n",
            "Epoch 4/50\n",
            "4/4 - 5s - loss: 1.0416 - accuracy: 0.4453 - val_loss: 1.0326 - val_accuracy: 0.3984\n",
            "Epoch 5/50\n",
            "4/4 - 5s - loss: 1.0347 - accuracy: 0.5078 - val_loss: 0.9374 - val_accuracy: 0.6016\n",
            "Epoch 6/50\n",
            "4/4 - 4s - loss: 1.0706 - accuracy: 0.4592 - val_loss: 1.0516 - val_accuracy: 0.4297\n",
            "Epoch 7/50\n",
            "4/4 - 4s - loss: 0.9520 - accuracy: 0.5816 - val_loss: 1.0042 - val_accuracy: 0.4922\n",
            "Epoch 8/50\n",
            "4/4 - 5s - loss: 0.9127 - accuracy: 0.5938 - val_loss: 0.9672 - val_accuracy: 0.5000\n",
            "Epoch 9/50\n",
            "4/4 - 4s - loss: 0.9373 - accuracy: 0.6429 - val_loss: 0.8528 - val_accuracy: 0.7109\n",
            "Epoch 10/50\n",
            "4/4 - 5s - loss: 0.8954 - accuracy: 0.6328 - val_loss: 0.8716 - val_accuracy: 0.6484\n",
            "Epoch 11/50\n",
            "4/4 - 5s - loss: 0.8107 - accuracy: 0.6328 - val_loss: 0.7211 - val_accuracy: 0.7500\n",
            "Epoch 12/50\n",
            "4/4 - 5s - loss: 0.7415 - accuracy: 0.7891 - val_loss: 0.7550 - val_accuracy: 0.7188\n",
            "Epoch 13/50\n",
            "4/4 - 5s - loss: 0.7699 - accuracy: 0.6406 - val_loss: 0.8723 - val_accuracy: 0.6484\n",
            "Epoch 14/50\n",
            "4/4 - 5s - loss: 0.7614 - accuracy: 0.6797 - val_loss: 0.6468 - val_accuracy: 0.7266\n",
            "Epoch 15/50\n",
            "4/4 - 5s - loss: 0.7002 - accuracy: 0.6875 - val_loss: 0.5253 - val_accuracy: 0.8359\n",
            "Epoch 16/50\n",
            "4/4 - 5s - loss: 0.6603 - accuracy: 0.7734 - val_loss: 0.7478 - val_accuracy: 0.7266\n",
            "Epoch 17/50\n",
            "4/4 - 5s - loss: 0.5676 - accuracy: 0.7734 - val_loss: 0.5170 - val_accuracy: 0.7578\n",
            "Epoch 18/50\n",
            "4/4 - 4s - loss: 0.6126 - accuracy: 0.7347 - val_loss: 0.6263 - val_accuracy: 0.7422\n",
            "Epoch 19/50\n",
            "4/4 - 5s - loss: 0.4793 - accuracy: 0.7969 - val_loss: 0.7800 - val_accuracy: 0.6641\n",
            "Epoch 20/50\n",
            "4/4 - 5s - loss: 0.5417 - accuracy: 0.8125 - val_loss: 0.5189 - val_accuracy: 0.8047\n",
            "Epoch 21/50\n",
            "4/4 - 5s - loss: 0.4633 - accuracy: 0.8438 - val_loss: 0.4889 - val_accuracy: 0.8203\n",
            "Epoch 22/50\n",
            "4/4 - 5s - loss: 0.3636 - accuracy: 0.8750 - val_loss: 0.5492 - val_accuracy: 0.8281\n",
            "Epoch 23/50\n",
            "4/4 - 5s - loss: 0.3236 - accuracy: 0.8906 - val_loss: 0.5111 - val_accuracy: 0.8516\n",
            "Epoch 24/50\n",
            "4/4 - 5s - loss: 0.5188 - accuracy: 0.7969 - val_loss: 0.5625 - val_accuracy: 0.7500\n",
            "Epoch 25/50\n",
            "4/4 - 5s - loss: 0.5749 - accuracy: 0.8047 - val_loss: 0.5289 - val_accuracy: 0.7422\n",
            "Epoch 26/50\n",
            "4/4 - 4s - loss: 0.4209 - accuracy: 0.8265 - val_loss: 0.5524 - val_accuracy: 0.7422\n",
            "Epoch 27/50\n",
            "4/4 - 5s - loss: 0.4715 - accuracy: 0.7891 - val_loss: 0.4312 - val_accuracy: 0.8281\n",
            "Epoch 28/50\n",
            "4/4 - 4s - loss: 0.5242 - accuracy: 0.7969 - val_loss: 0.4780 - val_accuracy: 0.8203\n",
            "Epoch 29/50\n",
            "4/4 - 5s - loss: 0.4162 - accuracy: 0.8594 - val_loss: 0.4127 - val_accuracy: 0.8281\n",
            "Epoch 30/50\n",
            "4/4 - 5s - loss: 0.3821 - accuracy: 0.8750 - val_loss: 0.3881 - val_accuracy: 0.8594\n",
            "Epoch 31/50\n",
            "4/4 - 5s - loss: 0.5006 - accuracy: 0.8047 - val_loss: 0.3532 - val_accuracy: 0.8125\n",
            "Epoch 32/50\n",
            "4/4 - 5s - loss: 0.4377 - accuracy: 0.8203 - val_loss: 0.4605 - val_accuracy: 0.8594\n",
            "Epoch 33/50\n",
            "4/4 - 4s - loss: 0.4094 - accuracy: 0.8571 - val_loss: 0.4228 - val_accuracy: 0.8281\n",
            "Epoch 34/50\n",
            "4/4 - 5s - loss: 0.3901 - accuracy: 0.8828 - val_loss: 0.4599 - val_accuracy: 0.8438\n",
            "Epoch 35/50\n",
            "4/4 - 5s - loss: 0.3540 - accuracy: 0.8750 - val_loss: 0.3779 - val_accuracy: 0.8594\n",
            "Epoch 36/50\n",
            "4/4 - 5s - loss: 0.3737 - accuracy: 0.8438 - val_loss: 0.4847 - val_accuracy: 0.8281\n",
            "Epoch 37/50\n",
            "4/4 - 5s - loss: 0.3347 - accuracy: 0.8828 - val_loss: 0.2067 - val_accuracy: 0.9453\n",
            "Epoch 38/50\n",
            "4/4 - 5s - loss: 0.3103 - accuracy: 0.9219 - val_loss: 0.3150 - val_accuracy: 0.8828\n",
            "Epoch 39/50\n",
            "4/4 - 5s - loss: 0.2804 - accuracy: 0.9219 - val_loss: 0.2178 - val_accuracy: 0.9297\n",
            "Epoch 40/50\n",
            "4/4 - 5s - loss: 0.2560 - accuracy: 0.9219 - val_loss: 0.2484 - val_accuracy: 0.8984\n",
            "Epoch 41/50\n",
            "4/4 - 5s - loss: 0.1952 - accuracy: 0.9531 - val_loss: 0.2422 - val_accuracy: 0.8906\n",
            "Epoch 42/50\n",
            "4/4 - 5s - loss: 0.1793 - accuracy: 0.9453 - val_loss: 0.2249 - val_accuracy: 0.9219\n",
            "Epoch 43/50\n",
            "4/4 - 4s - loss: 0.3686 - accuracy: 0.8776 - val_loss: 0.2635 - val_accuracy: 0.8984\n",
            "Epoch 44/50\n",
            "4/4 - 5s - loss: 0.2617 - accuracy: 0.9219 - val_loss: 0.1424 - val_accuracy: 0.9688\n",
            "Epoch 45/50\n",
            "4/4 - 5s - loss: 0.2516 - accuracy: 0.9297 - val_loss: 0.2570 - val_accuracy: 0.9062\n",
            "Epoch 46/50\n",
            "4/4 - 5s - loss: 0.3383 - accuracy: 0.8906 - val_loss: 0.2770 - val_accuracy: 0.9297\n",
            "Epoch 47/50\n",
            "4/4 - 5s - loss: 0.2048 - accuracy: 0.9375 - val_loss: 0.1485 - val_accuracy: 0.9453\n",
            "Epoch 48/50\n",
            "4/4 - 4s - loss: 0.1739 - accuracy: 0.9490 - val_loss: 0.3282 - val_accuracy: 0.8750\n",
            "Epoch 49/50\n",
            "4/4 - 5s - loss: 0.2704 - accuracy: 0.9062 - val_loss: 0.4751 - val_accuracy: 0.8281\n",
            "Epoch 50/50\n",
            "4/4 - 5s - loss: 0.3874 - accuracy: 0.8672 - val_loss: 0.3542 - val_accuracy: 0.8672\n"
          ],
          "name": "stdout"
        },
        {
          "output_type": "execute_result",
          "data": {
            "text/plain": [
              "<tensorflow.python.keras.callbacks.History at 0x7f79556aa090>"
            ]
          },
          "metadata": {
            "tags": []
          },
          "execution_count": 74
        }
      ]
    },
    {
      "cell_type": "code",
      "metadata": {
        "colab": {
          "resources": {
            "http://localhost:8080/nbextensions/google.colab/files.js": {
              "data": "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",
              "ok": true,
              "headers": [
                [
                  "content-type",
                  "application/javascript"
                ]
              ],
              "status": 200,
              "status_text": ""
            }
          },
          "base_uri": "https://localhost:8080/",
          "height": 358
        },
        "id": "9HRr7cIX7R47",
        "outputId": "7f49f6f5-a64d-4ab4-c189-a77691dbb318"
      },
      "source": [
        "import numpy as np #Import modul numpy\n",
        "from google.colab import files #Import modul import file\n",
        "from keras.preprocessing import image #Import modul keras _prepocessing untuk gambar\n",
        "import matplotlib.pyplot as plt\n",
        "import matplotlib.image as mpimg\n",
        "%matplotlib inline\n",
        " \n",
        "uploaded = files.upload() #Upload gambar untuk dikenal model\n",
        " \n",
        "for fn in uploaded.keys():\n",
        " \n",
        "  # predicting images\n",
        "  path = fn\n",
        "  img = image.load_img(path, target_size=(150,150)) #Mengubah ukuran menjadi 150x150\n",
        "  imgplot = plt.imshow(img) #Menampilkan gambar yang diunggah\n",
        "  x = image.img_to_array(img)\n",
        "  x = np.expand_dims(x, axis=0)\n",
        " \n",
        "  images = np.vstack([x])\n",
        "  classes = model.predict(images, batch_size=10)\n",
        "  \n",
        "  print(fn)\n",
        "  if classes[0][0]==1:\n",
        "    print('KERTAS') #Tampil Kertas\n",
        "  elif classes[0][1]==1:\n",
        "    print('BATU') #Tampil Batu\n",
        "  elif classes[0][2]==1:\n",
        "    print('GUNTING') #Tampil Gunting"
      ],
      "execution_count": null,
      "outputs": [
        {
          "output_type": "display_data",
          "data": {
            "text/html": [
              "\n",
              "     <input type=\"file\" id=\"files-b02c2909-549e-46bb-bdff-0f755769c6c4\" name=\"files[]\" multiple disabled\n",
              "        style=\"border:none\" />\n",
              "     <output id=\"result-b02c2909-549e-46bb-bdff-0f755769c6c4\">\n",
              "      Upload widget is only available when the cell has been executed in the\n",
              "      current browser session. Please rerun this cell to enable.\n",
              "      </output>\n",
              "      <script src=\"/nbextensions/google.colab/files.js\"></script> "
            ],
            "text/plain": [
              "<IPython.core.display.HTML object>"
            ]
          },
          "metadata": {
            "tags": []
          }
        },
        {
          "output_type": "stream",
          "text": [
            "Saving 0Uomd0HvOB33m47I.png to 0Uomd0HvOB33m47I.png\n",
            "0Uomd0HvOB33m47I.png\n",
            "KERTAS\n"
          ],
          "name": "stdout"
        },
        {
          "output_type": "display_data",
          "data": {
            "image/png": "[encoded data removed]",
            "text/plain": [
              "<Figure size 432x288 with 1 Axes>"
            ]
          },
          "metadata": {
            "tags": [],
            "needs_background": "light"
          }
        }
      ]
    }
  ]
}